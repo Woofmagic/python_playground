{
 "cells": [
  {
   "cell_type": "code",
   "execution_count": 1,
   "id": "1f7de8a7",
   "metadata": {},
   "outputs": [],
   "source": [
    "import http"
   ]
  },
  {
   "cell_type": "code",
   "execution_count": 2,
   "id": "7c2c0897",
   "metadata": {},
   "outputs": [
    {
     "data": {
      "text/plain": [
       "<enum 'HTTPStatus'>"
      ]
     },
     "execution_count": 2,
     "metadata": {},
     "output_type": "execute_result"
    }
   ],
   "source": [
    "http.HTTPStatus"
   ]
  },
  {
   "cell_type": "markdown",
   "id": "8488a9b8",
   "metadata": {},
   "source": [
    "Decent in-class documentation for `HTTPStatus`."
   ]
  },
  {
   "cell_type": "code",
   "execution_count": 3,
   "id": "5f218e4a",
   "metadata": {},
   "outputs": [
    {
     "data": {
      "text/plain": [
       "<HTTPStatus.ACCEPTED: 202>"
      ]
     },
     "execution_count": 3,
     "metadata": {},
     "output_type": "execute_result"
    }
   ],
   "source": [
    "http.HTTPStatus.ACCEPTED"
   ]
  },
  {
   "cell_type": "code",
   "execution_count": 4,
   "id": "e86c739e",
   "metadata": {},
   "outputs": [
    {
     "name": "stdout",
     "output_type": "stream",
     "text": [
      "202\n",
      "Accepted\n",
      "Request accepted, processing continues off-line\n",
      "<enum 'HTTPStatus'>\n"
     ]
    }
   ],
   "source": [
    "print(http.HTTPStatus.ACCEPTED.value)\n",
    "print(http.HTTPStatus.ACCEPTED.phrase)\n",
    "print(http.HTTPStatus.ACCEPTED.description)\n",
    "print(type(http.HTTPStatus.ACCEPTED))"
   ]
  },
  {
   "cell_type": "markdown",
   "id": "afdf1047",
   "metadata": {},
   "source": [
    "Of type `enum`?"
   ]
  },
  {
   "cell_type": "code",
   "execution_count": 5,
   "id": "10063153",
   "metadata": {},
   "outputs": [
    {
     "name": "stdout",
     "output_type": "stream",
     "text": [
      "100\n",
      "Continue\n",
      "Request received, please continue\n",
      "<enum 'HTTPStatus'>\n"
     ]
    }
   ],
   "source": [
    "print(http.HTTPStatus.CONTINUE.value)\n",
    "print(http.HTTPStatus.CONTINUE.phrase)\n",
    "print(http.HTTPStatus.CONTINUE.description)\n",
    "print(type(http.HTTPStatus.CONTINUE))"
   ]
  },
  {
   "cell_type": "code",
   "execution_count": 6,
   "id": "e61a97a6",
   "metadata": {},
   "outputs": [
    {
     "name": "stdout",
     "output_type": "stream",
     "text": [
      "101\n",
      "Switching Protocols\n",
      "Switching to new protocol; obey Upgrade header\n",
      "<enum 'HTTPStatus'>\n"
     ]
    }
   ],
   "source": [
    "print(http.HTTPStatus.SWITCHING_PROTOCOLS.value)\n",
    "print(http.HTTPStatus.SWITCHING_PROTOCOLS.phrase)\n",
    "print(http.HTTPStatus.SWITCHING_PROTOCOLS.description)\n",
    "print(type(http.HTTPStatus.SWITCHING_PROTOCOLS))"
   ]
  },
  {
   "cell_type": "code",
   "execution_count": 7,
   "id": "e2ab9e0e",
   "metadata": {},
   "outputs": [
    {
     "name": "stdout",
     "output_type": "stream",
     "text": [
      "102\n",
      "Processing\n",
      "\n",
      "<enum 'HTTPStatus'>\n"
     ]
    }
   ],
   "source": [
    "print(http.HTTPStatus.PROCESSING.value)\n",
    "print(http.HTTPStatus.PROCESSING.phrase)\n",
    "print(http.HTTPStatus.PROCESSING.description)\n",
    "print(type(http.HTTPStatus.PROCESSING))"
   ]
  },
  {
   "cell_type": "markdown",
   "id": "ed14ee08",
   "metadata": {},
   "source": [
    "`.description` empty, as it should be."
   ]
  },
  {
   "cell_type": "code",
   "execution_count": 8,
   "id": "df2f3e54",
   "metadata": {},
   "outputs": [
    {
     "data": {
      "text/plain": [
       "[<HTTPStatus.CONTINUE: 100>,\n",
       " <HTTPStatus.SWITCHING_PROTOCOLS: 101>,\n",
       " <HTTPStatus.PROCESSING: 102>,\n",
       " <HTTPStatus.EARLY_HINTS: 103>,\n",
       " <HTTPStatus.OK: 200>,\n",
       " <HTTPStatus.CREATED: 201>,\n",
       " <HTTPStatus.ACCEPTED: 202>,\n",
       " <HTTPStatus.NON_AUTHORITATIVE_INFORMATION: 203>,\n",
       " <HTTPStatus.NO_CONTENT: 204>,\n",
       " <HTTPStatus.RESET_CONTENT: 205>,\n",
       " <HTTPStatus.PARTIAL_CONTENT: 206>,\n",
       " <HTTPStatus.MULTI_STATUS: 207>,\n",
       " <HTTPStatus.ALREADY_REPORTED: 208>,\n",
       " <HTTPStatus.IM_USED: 226>,\n",
       " <HTTPStatus.MULTIPLE_CHOICES: 300>,\n",
       " <HTTPStatus.MOVED_PERMANENTLY: 301>,\n",
       " <HTTPStatus.FOUND: 302>,\n",
       " <HTTPStatus.SEE_OTHER: 303>,\n",
       " <HTTPStatus.NOT_MODIFIED: 304>,\n",
       " <HTTPStatus.USE_PROXY: 305>,\n",
       " <HTTPStatus.TEMPORARY_REDIRECT: 307>,\n",
       " <HTTPStatus.PERMANENT_REDIRECT: 308>,\n",
       " <HTTPStatus.BAD_REQUEST: 400>,\n",
       " <HTTPStatus.UNAUTHORIZED: 401>,\n",
       " <HTTPStatus.PAYMENT_REQUIRED: 402>,\n",
       " <HTTPStatus.FORBIDDEN: 403>,\n",
       " <HTTPStatus.NOT_FOUND: 404>,\n",
       " <HTTPStatus.METHOD_NOT_ALLOWED: 405>,\n",
       " <HTTPStatus.NOT_ACCEPTABLE: 406>,\n",
       " <HTTPStatus.PROXY_AUTHENTICATION_REQUIRED: 407>,\n",
       " <HTTPStatus.REQUEST_TIMEOUT: 408>,\n",
       " <HTTPStatus.CONFLICT: 409>,\n",
       " <HTTPStatus.GONE: 410>,\n",
       " <HTTPStatus.LENGTH_REQUIRED: 411>,\n",
       " <HTTPStatus.PRECONDITION_FAILED: 412>,\n",
       " <HTTPStatus.REQUEST_ENTITY_TOO_LARGE: 413>,\n",
       " <HTTPStatus.REQUEST_URI_TOO_LONG: 414>,\n",
       " <HTTPStatus.UNSUPPORTED_MEDIA_TYPE: 415>,\n",
       " <HTTPStatus.REQUESTED_RANGE_NOT_SATISFIABLE: 416>,\n",
       " <HTTPStatus.EXPECTATION_FAILED: 417>,\n",
       " <HTTPStatus.IM_A_TEAPOT: 418>,\n",
       " <HTTPStatus.MISDIRECTED_REQUEST: 421>,\n",
       " <HTTPStatus.UNPROCESSABLE_ENTITY: 422>,\n",
       " <HTTPStatus.LOCKED: 423>,\n",
       " <HTTPStatus.FAILED_DEPENDENCY: 424>,\n",
       " <HTTPStatus.TOO_EARLY: 425>,\n",
       " <HTTPStatus.UPGRADE_REQUIRED: 426>,\n",
       " <HTTPStatus.PRECONDITION_REQUIRED: 428>,\n",
       " <HTTPStatus.TOO_MANY_REQUESTS: 429>,\n",
       " <HTTPStatus.REQUEST_HEADER_FIELDS_TOO_LARGE: 431>,\n",
       " <HTTPStatus.UNAVAILABLE_FOR_LEGAL_REASONS: 451>,\n",
       " <HTTPStatus.INTERNAL_SERVER_ERROR: 500>,\n",
       " <HTTPStatus.NOT_IMPLEMENTED: 501>,\n",
       " <HTTPStatus.BAD_GATEWAY: 502>,\n",
       " <HTTPStatus.SERVICE_UNAVAILABLE: 503>,\n",
       " <HTTPStatus.GATEWAY_TIMEOUT: 504>,\n",
       " <HTTPStatus.HTTP_VERSION_NOT_SUPPORTED: 505>,\n",
       " <HTTPStatus.VARIANT_ALSO_NEGOTIATES: 506>,\n",
       " <HTTPStatus.INSUFFICIENT_STORAGE: 507>,\n",
       " <HTTPStatus.LOOP_DETECTED: 508>,\n",
       " <HTTPStatus.NOT_EXTENDED: 510>,\n",
       " <HTTPStatus.NETWORK_AUTHENTICATION_REQUIRED: 511>]"
      ]
     },
     "execution_count": 8,
     "metadata": {},
     "output_type": "execute_result"
    }
   ],
   "source": [
    "list(http.HTTPStatus)"
   ]
  },
  {
   "cell_type": "code",
   "execution_count": 9,
   "id": "975291f5",
   "metadata": {},
   "outputs": [
    {
     "data": {
      "text/plain": [
       "<module 'http.client' from '/usr/lib/python3.10/http/client.py'>"
      ]
     },
     "execution_count": 9,
     "metadata": {},
     "output_type": "execute_result"
    }
   ],
   "source": [
    "import http.client\n",
    "\n",
    "\n",
    "http.client"
   ]
  },
  {
   "cell_type": "code",
   "execution_count": 10,
   "id": "c80104be",
   "metadata": {},
   "outputs": [],
   "source": [
    "client_one = http.client"
   ]
  },
  {
   "cell_type": "code",
   "execution_count": 11,
   "id": "b4022020",
   "metadata": {},
   "outputs": [],
   "source": [
    "google_url = \"https://www.google.com\""
   ]
  },
  {
   "cell_type": "code",
   "execution_count": 12,
   "id": "67e0256f",
   "metadata": {},
   "outputs": [],
   "source": [
    "google_url_split = client_one.urlsplit(google_url)"
   ]
  },
  {
   "cell_type": "code",
   "execution_count": 13,
   "id": "a159e0fa",
   "metadata": {},
   "outputs": [
    {
     "data": {
      "text/plain": [
       "'https://www.google.com'"
      ]
     },
     "execution_count": 13,
     "metadata": {},
     "output_type": "execute_result"
    }
   ],
   "source": [
    "google_url_split.geturl()"
   ]
  },
  {
   "cell_type": "code",
   "execution_count": 14,
   "id": "b89d1867",
   "metadata": {},
   "outputs": [
    {
     "data": {
      "text/plain": [
       "0"
      ]
     },
     "execution_count": 14,
     "metadata": {},
     "output_type": "execute_result"
    }
   ],
   "source": [
    "google_url_split.count(\"google\")"
   ]
  },
  {
   "cell_type": "code",
   "execution_count": 15,
   "id": "4315f666",
   "metadata": {},
   "outputs": [
    {
     "data": {
      "text/plain": [
       "SplitResultBytes(scheme=b'https', netloc=b'www.google.com', path=b'', query=b'', fragment=b'')"
      ]
     },
     "execution_count": 15,
     "metadata": {},
     "output_type": "execute_result"
    }
   ],
   "source": [
    "google_url_split.encode()"
   ]
  },
  {
   "cell_type": "code",
   "execution_count": 16,
   "id": "731b630d",
   "metadata": {},
   "outputs": [
    {
     "data": {
      "text/plain": [
       "'https://www.google.com'"
      ]
     },
     "execution_count": 16,
     "metadata": {},
     "output_type": "execute_result"
    }
   ],
   "source": [
    "google_url_split.geturl()"
   ]
  },
  {
   "cell_type": "code",
   "execution_count": 17,
   "id": "df821989",
   "metadata": {},
   "outputs": [
    {
     "data": {
      "text/plain": [
       "'www.google.com'"
      ]
     },
     "execution_count": 17,
     "metadata": {},
     "output_type": "execute_result"
    }
   ],
   "source": [
    "google_url_split.hostname"
   ]
  },
  {
   "cell_type": "code",
   "execution_count": 18,
   "id": "af033882",
   "metadata": {},
   "outputs": [
    {
     "name": "stdout",
     "output_type": "stream",
     "text": [
      "tuple.index(x): x not in tuple\n"
     ]
    }
   ],
   "source": [
    "try:\n",
    "    google_url_split.index(\"/\")\n",
    "except Exception as e:\n",
    "    print(e)"
   ]
  },
  {
   "cell_type": "code",
   "execution_count": 19,
   "id": "5c2e1fb9",
   "metadata": {},
   "outputs": [
    {
     "data": {
      "text/plain": [
       "0"
      ]
     },
     "execution_count": 19,
     "metadata": {},
     "output_type": "execute_result"
    }
   ],
   "source": [
    "(\"\").index(\"\")"
   ]
  },
  {
   "cell_type": "code",
   "execution_count": 20,
   "id": "1e03a0a5",
   "metadata": {},
   "outputs": [],
   "source": [
    "h1 = http.client.HTTPConnection('www.python.org')"
   ]
  },
  {
   "cell_type": "code",
   "execution_count": 21,
   "id": "f54bdabe",
   "metadata": {},
   "outputs": [],
   "source": [
    "h1.close()"
   ]
  },
  {
   "cell_type": "code",
   "execution_count": 22,
   "id": "2ee02dff",
   "metadata": {},
   "outputs": [],
   "source": [
    "h2 = http.client.HTTPSConnection('www.python.org')"
   ]
  },
  {
   "cell_type": "code",
   "execution_count": 23,
   "id": "f5b6777c",
   "metadata": {},
   "outputs": [
    {
     "data": {
      "text/plain": [
       "443"
      ]
     },
     "execution_count": 23,
     "metadata": {},
     "output_type": "execute_result"
    }
   ],
   "source": [
    "h2.port"
   ]
  },
  {
   "cell_type": "code",
   "execution_count": 24,
   "id": "2044afad",
   "metadata": {},
   "outputs": [],
   "source": [
    "h2.close()"
   ]
  },
  {
   "cell_type": "code",
   "execution_count": 25,
   "id": "0eebdcf9",
   "metadata": {},
   "outputs": [],
   "source": [
    "h3 = http.client.HTTPSConnection('www.python.org')"
   ]
  },
  {
   "cell_type": "code",
   "execution_count": 26,
   "id": "9cc36188",
   "metadata": {},
   "outputs": [
    {
     "data": {
      "text/plain": [
       "443"
      ]
     },
     "execution_count": 26,
     "metadata": {},
     "output_type": "execute_result"
    }
   ],
   "source": [
    "h3.default_port"
   ]
  },
  {
   "cell_type": "code",
   "execution_count": 27,
   "id": "0490eea4",
   "metadata": {},
   "outputs": [
    {
     "name": "stdout",
     "output_type": "stream",
     "text": [
      "Idle\n"
     ]
    }
   ],
   "source": [
    "try:\n",
    "    h3.getresponse()\n",
    "except Exception as e:\n",
    "    print(e)"
   ]
  },
  {
   "cell_type": "code",
   "execution_count": 28,
   "id": "5be3029a",
   "metadata": {},
   "outputs": [
    {
     "name": "stdout",
     "output_type": "stream",
     "text": [
      "\n"
     ]
    }
   ],
   "source": [
    "try:\n",
    "    h3.putheader('Accept', 'text/html')\n",
    "except Exception as e:\n",
    "    print(e)"
   ]
  },
  {
   "cell_type": "code",
   "execution_count": 29,
   "id": "b08e999d",
   "metadata": {},
   "outputs": [],
   "source": [
    "h4 = http.client.HTTPSConnection('www.d7f57656gh4jghjbajhhdaf768gfbhwugfodi.org')"
   ]
  },
  {
   "cell_type": "code",
   "execution_count": 30,
   "id": "b453e3ff",
   "metadata": {},
   "outputs": [],
   "source": [
    "h4.close()"
   ]
  },
  {
   "cell_type": "code",
   "execution_count": 31,
   "id": "7ff8097d",
   "metadata": {},
   "outputs": [],
   "source": [
    "from urllib.parse import urlparse, parse_qs\n",
    "import tldextract\n",
    "import warnings\n",
    "\n",
    "def deconstruct_url(url_string: str) -> dict:\n",
    "    \"\"\"\n",
    "    ## Description:\n",
    "    Takes in a string (`url_string`) and attempts to determine the various\n",
    "    components that make it up.\n",
    "\n",
    "    ## Arguments:\n",
    "        url (str): The URL to parse.\n",
    "\n",
    "    ## Returns:\n",
    "        dict: A dictionary containing:\n",
    "            - scheme\n",
    "            - subdomain\n",
    "            - domain\n",
    "            - suffix (TLD)\n",
    "            - path\n",
    "            - query_params (dict)\n",
    "            - fragment\n",
    "            - is_complete (bool)\n",
    "\n",
    "    ## Notes:\n",
    "    The various parts of a URL are, as they appear in chronological order: \n",
    "\n",
    "        (1): protocol\n",
    "\n",
    "        (2): subdomain\n",
    "\n",
    "        (3): domain name\n",
    "\n",
    "        (4): port\n",
    "\n",
    "        (5): path to file\n",
    "\n",
    "        (6): query parameters\n",
    "\n",
    "        (7): fragments\n",
    "\n",
    "    The standard form for a URI is:\n",
    "\n",
    "    `URI = scheme \":\" [\"//\" authority] path [\"?\" query] [\"#\" fragment]`\n",
    "    \"\"\"\n",
    "    \n",
    "    # (1): Initialize the dictionary of relevant URL components:\n",
    "    result = {\n",
    "        \"scheme\": \"\",\n",
    "        \"subdomain\": \"\",\n",
    "        \"domain\": \"\",\n",
    "        \"suffix\": \"\",\n",
    "        \"path\": \"\",\n",
    "        \"query_params\": {},\n",
    "        \"fragment\": \"\",\n",
    "        \"is_complete\": True\n",
    "    }\n",
    "\n",
    "    # (2): Call urlparse on the string:\n",
    "    parsed = urlparse(url_string)\n",
    "\n",
    "    # (3): Extract the \n",
    "    result[\"scheme\"] = parsed.scheme\n",
    "\n",
    "    # (4): If there is *no* scheme/protocol...\n",
    "    if not parsed.scheme:\n",
    "\n",
    "        # (4.1): ... warn the user that there is no scheme:\n",
    "        warnings.warn(\"URL missing scheme (e.g., http or https).\")\n",
    "\n",
    "        # (4.2): And signal to the dictionary that the URL is not complete:\n",
    "        result[\"is_complete\"] = False\n",
    "\n",
    "    # (5): Extract the subdomain, domain, and suffix:\n",
    "    url_domains = tldextract.extract(parsed.netloc)\n",
    "\n",
    "    # (6): Set the subdomain key by accessing the .subdomain property:\n",
    "    result[\"subdomain\"] = url_domains.subdomain\n",
    "\n",
    "    # (7): Set the domain key by accessing the .domain property:\n",
    "    result[\"domain\"] = url_domains.domain\n",
    "\n",
    "    # (8): Set the suffix key by accessing the .suffix property:\n",
    "    result[\"suffix\"] = url_domains.suffix\n",
    "\n",
    "    # (9): If the tldextract analysis does not find domais or sufficies...\n",
    "    if not url_domains.domain or not url_domains.suffix:\n",
    "\n",
    "        # (9.1): ... warn the user that this is missing:\n",
    "        warnings.warn(\"URL missing valid domain and/or TLD.\")\n",
    "\n",
    "        # (9.2): Inform the complete key of the dictionary:\n",
    "        result[\"is_complete\"] = False\n",
    "\n",
    "    # (10): Extract the path of the URL if it exists:\n",
    "    result[\"path\"] = parsed.path or \"\"\n",
    "    \n",
    "    # (11): Now, extract any query parameters (those after the ?):\n",
    "    result[\"query_params\"] = parse_qs(parsed.query)\n",
    "\n",
    "    # (12): Determine if there are any fragements in the URL:\n",
    "    result[\"fragment\"] = parsed.fragment\n",
    "\n",
    "    # (13): If there is no authority part...\n",
    "    if not parsed.netloc:\n",
    "        \n",
    "        # (13.1): ... warn the user that this is not present:\n",
    "        warnings.warn(\"URL missing authority component (netloc).\")\n",
    "\n",
    "        # (13.2): And report that the URL is not complete:\n",
    "        result[\"is_complete\"] = False\n",
    "\n",
    "    # (14): Return the *dictionary*, right?\n",
    "    return result\n"
   ]
  },
  {
   "cell_type": "code",
   "execution_count": 32,
   "id": "0d091b76",
   "metadata": {},
   "outputs": [
    {
     "data": {
      "text/plain": [
       "{'scheme': 'https',\n",
       " 'subdomain': '',\n",
       " 'domain': 'github',\n",
       " 'suffix': 'com',\n",
       " 'path': '/python/cpython/blob/3.13/Lib/logging/handlers.py',\n",
       " 'query_params': {},\n",
       " 'fragment': '',\n",
       " 'is_complete': True}"
      ]
     },
     "execution_count": 32,
     "metadata": {},
     "output_type": "execute_result"
    }
   ],
   "source": [
    "deconstruct_url(\"https://github.com/python/cpython/blob/3.13/Lib/logging/handlers.py\")"
   ]
  },
  {
   "cell_type": "code",
   "execution_count": 33,
   "id": "f85037ef",
   "metadata": {},
   "outputs": [
    {
     "data": {
      "text/plain": [
       "['HTTPStatus']"
      ]
     },
     "execution_count": 33,
     "metadata": {},
     "output_type": "execute_result"
    }
   ],
   "source": [
    "http.__all__"
   ]
  },
  {
   "cell_type": "markdown",
   "id": "0fa8020e",
   "metadata": {},
   "source": [
    "`HTTPMethod` is not in 3.10."
   ]
  },
  {
   "cell_type": "code",
   "execution_count": 36,
   "id": "d537bbeb",
   "metadata": {},
   "outputs": [],
   "source": [
    "def make_http_request(\n",
    "        url: str = \"www.google.com\", \n",
    "        request_type: str = \"GET\", \n",
    "        secure: bool = True,):\n",
    "    \"\"\"\n",
    "    ## Description:\n",
    "    Make an HTTP(S) `request_type` (`secure` bool parameter) request to `hostname`.\n",
    "    That is, we make an HTTP(S) request of type `request_type` (POST, GET, PUT, DELETE, ...)\n",
    "    to `hostname`, and we choose either HTTP or HTTPS depending on the `secure` parameter.\n",
    "    \"\"\"\n",
    "\n",
    "    scrubbed_url_dictionary = deconstruct_url(url)\n",
    "\n",
    "    try:\n",
    "\n",
    "        if not scrubbed_url_dictionary[\"is_complete\"]:\n",
    "            raise ValueError(\"> [ERROR]: URL is incomplete.\")\n",
    "            \n",
    "        http_connection = http.client.HTTPConnection(host = url)\n",
    "\n",
    "        http_request = http_connection.request(\n",
    "            method = request_type,\n",
    "            url = url)\n",
    "        \n",
    "    except:\n",
    "\n",
    "        print(f\"> [ERROR]: Did not make HTTP request.\")"
   ]
  },
  {
   "cell_type": "code",
   "execution_count": 39,
   "id": "c00e90cf",
   "metadata": {},
   "outputs": [
    {
     "name": "stdout",
     "output_type": "stream",
     "text": [
      "> [ERROR]: Did not make HTTP request.\n"
     ]
    }
   ],
   "source": [
    "make_http_request('https://google.com', request_type = \"GET\")"
   ]
  },
  {
   "cell_type": "code",
   "execution_count": null,
   "id": "7aa71735",
   "metadata": {},
   "outputs": [],
   "source": []
  },
  {
   "cell_type": "code",
   "execution_count": null,
   "id": "ec6eab94",
   "metadata": {},
   "outputs": [],
   "source": []
  },
  {
   "cell_type": "code",
   "execution_count": null,
   "id": "95c2f829",
   "metadata": {},
   "outputs": [],
   "source": []
  },
  {
   "cell_type": "code",
   "execution_count": null,
   "id": "fc070bab",
   "metadata": {},
   "outputs": [],
   "source": []
  },
  {
   "cell_type": "code",
   "execution_count": null,
   "id": "e7310d06",
   "metadata": {},
   "outputs": [],
   "source": []
  },
  {
   "cell_type": "code",
   "execution_count": null,
   "id": "ad73e7e5",
   "metadata": {},
   "outputs": [],
   "source": []
  },
  {
   "cell_type": "code",
   "execution_count": null,
   "id": "092d7a05",
   "metadata": {},
   "outputs": [],
   "source": []
  },
  {
   "cell_type": "code",
   "execution_count": null,
   "id": "80c8f971",
   "metadata": {},
   "outputs": [],
   "source": []
  },
  {
   "cell_type": "code",
   "execution_count": null,
   "id": "363b857a",
   "metadata": {},
   "outputs": [],
   "source": []
  },
  {
   "cell_type": "code",
   "execution_count": null,
   "id": "41b457b0",
   "metadata": {},
   "outputs": [],
   "source": []
  },
  {
   "cell_type": "code",
   "execution_count": null,
   "id": "d88afc6b",
   "metadata": {},
   "outputs": [],
   "source": []
  },
  {
   "cell_type": "code",
   "execution_count": null,
   "id": "993ceb1b",
   "metadata": {},
   "outputs": [],
   "source": []
  }
 ],
 "metadata": {
  "kernelspec": {
   "display_name": "Python 3",
   "language": "python",
   "name": "python3"
  },
  "language_info": {
   "codemirror_mode": {
    "name": "ipython",
    "version": 3
   },
   "file_extension": ".py",
   "mimetype": "text/x-python",
   "name": "python",
   "nbconvert_exporter": "python",
   "pygments_lexer": "ipython3",
   "version": "3.10.12"
  }
 },
 "nbformat": 4,
 "nbformat_minor": 5
}
