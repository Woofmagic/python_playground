{
 "cells": [
  {
   "cell_type": "code",
   "execution_count": 40,
   "metadata": {},
   "outputs": [],
   "source": [
    "import random\n",
    "import numpy as np\n",
    "import sympy as sp"
   ]
  },
  {
   "cell_type": "code",
   "execution_count": 41,
   "metadata": {},
   "outputs": [],
   "source": [
    "# Here is the proposed function\n",
    "def sympy_lambdify_expression(\n",
    "        sympy_variables: list[sp.Symbol] | tuple[sp.Symbol, ...],\n",
    "        sympy_expression: sp.Expr):\n",
    "    return sp.lambdify(sympy_variables, sympy_expression, 'numpy')"
   ]
  },
  {
   "cell_type": "code",
   "execution_count": 42,
   "metadata": {},
   "outputs": [
    {
     "data": {
      "text/plain": [
       "(x_1, x_2, x_3)"
      ]
     },
     "execution_count": 42,
     "metadata": {},
     "output_type": "execute_result"
    }
   ],
   "source": [
    "sympy_symbols = sp.symbols('x_1 x_2 x_3')\n",
    "sympy_symbols # this is a tuple"
   ]
  },
  {
   "cell_type": "code",
   "execution_count": 43,
   "metadata": {},
   "outputs": [
    {
     "data": {
      "text/plain": [
       "[x_1, x_2, x_3]"
      ]
     },
     "execution_count": 43,
     "metadata": {},
     "output_type": "execute_result"
    }
   ],
   "source": [
    "list(sympy_symbols)"
   ]
  },
  {
   "cell_type": "markdown",
   "metadata": {},
   "source": [
    "So `list()` on a tuple turns the tuple into a list?"
   ]
  },
  {
   "cell_type": "code",
   "execution_count": 44,
   "metadata": {},
   "outputs": [
    {
     "data": {
      "text/latex": [
       "$\\displaystyle x_{1} + x_{2}^{2} - \\sin{\\left(x_{3} \\right)}$"
      ],
      "text/plain": [
       "x_1 + x_2**2 - sin(x_3)"
      ]
     },
     "execution_count": 44,
     "metadata": {},
     "output_type": "execute_result"
    }
   ],
   "source": [
    "underlying_function_1 = sympy_symbols[0] + sympy_symbols[1]**2 - sp.sin(sympy_symbols[2])\n",
    "underlying_function_1"
   ]
  },
  {
   "cell_type": "code",
   "execution_count": 45,
   "metadata": {},
   "outputs": [
    {
     "data": {
      "text/plain": [
       "<function _lambdifygenerated(x_1, x_2, x_3)>"
      ]
     },
     "execution_count": 45,
     "metadata": {},
     "output_type": "execute_result"
    }
   ],
   "source": [
    "sympy_function = sympy_lambdify_expression(sympy_symbols, underlying_function_1)\n",
    "sympy_function"
   ]
  },
  {
   "cell_type": "markdown",
   "metadata": {},
   "source": [
    "Can we numerically evaluate it?"
   ]
  },
  {
   "cell_type": "code",
   "execution_count": 46,
   "metadata": {},
   "outputs": [
    {
     "data": {
      "text/plain": [
       "20.756802495307927"
      ]
     },
     "execution_count": 46,
     "metadata": {},
     "output_type": "execute_result"
    }
   ],
   "source": [
    "sympy_function(4, 4, 4)"
   ]
  },
  {
   "cell_type": "markdown",
   "metadata": {},
   "source": [
    "Now, we try to not us all the variables to see if the function breaks:"
   ]
  },
  {
   "cell_type": "code",
   "execution_count": 47,
   "metadata": {},
   "outputs": [
    {
     "data": {
      "text/latex": [
       "$\\displaystyle x_{1}^{\\sin{\\left(x_{1} \\right)}}$"
      ],
      "text/plain": [
       "x_1**sin(x_1)"
      ]
     },
     "execution_count": 47,
     "metadata": {},
     "output_type": "execute_result"
    }
   ],
   "source": [
    "underlying_function_2 = sympy_symbols[0]**sp.sin(sympy_symbols[0])\n",
    "underlying_function_2"
   ]
  },
  {
   "cell_type": "code",
   "execution_count": 48,
   "metadata": {},
   "outputs": [
    {
     "data": {
      "text/plain": [
       "<function _lambdifygenerated(x_1, x_2, x_3)>"
      ]
     },
     "execution_count": 48,
     "metadata": {},
     "output_type": "execute_result"
    }
   ],
   "source": [
    "sympy_function_2 = sympy_lambdify_expression(sympy_symbols, underlying_function_2)\n",
    "sympy_function_2"
   ]
  },
  {
   "cell_type": "markdown",
   "metadata": {},
   "source": [
    "Looks like it *still* requires three input variables."
   ]
  },
  {
   "cell_type": "code",
   "execution_count": 49,
   "metadata": {},
   "outputs": [
    {
     "ename": "TypeError",
     "evalue": "_lambdifygenerated() missing 2 required positional arguments: 'x_2' and 'x_3'",
     "output_type": "error",
     "traceback": [
      "\u001b[0;31m---------------------------------------------------------------------------\u001b[0m",
      "\u001b[0;31mTypeError\u001b[0m                                 Traceback (most recent call last)",
      "\u001b[0;32m/tmp/ipykernel_230654/3018415167.py\u001b[0m in \u001b[0;36m<module>\u001b[0;34m\u001b[0m\n\u001b[0;32m----> 1\u001b[0;31m \u001b[0msympy_function_2\u001b[0m\u001b[0;34m(\u001b[0m\u001b[0;36m4\u001b[0m\u001b[0;34m)\u001b[0m\u001b[0;34m\u001b[0m\u001b[0;34m\u001b[0m\u001b[0m\n\u001b[0m",
      "\u001b[0;31mTypeError\u001b[0m: _lambdifygenerated() missing 2 required positional arguments: 'x_2' and 'x_3'"
     ]
    }
   ],
   "source": [
    "sympy_function_2(4)"
   ]
  },
  {
   "cell_type": "code",
   "execution_count": 36,
   "metadata": {},
   "outputs": [
    {
     "data": {
      "text/plain": [
       "0.3502349613017394"
      ]
     },
     "execution_count": 36,
     "metadata": {},
     "output_type": "execute_result"
    }
   ],
   "source": [
    "sympy_function_2(4, 4, 4)"
   ]
  },
  {
   "cell_type": "markdown",
   "metadata": {},
   "source": [
    "This is acceptable. We just have to remember that this happens when we go forward."
   ]
  },
  {
   "cell_type": "code",
   "execution_count": 51,
   "metadata": {},
   "outputs": [],
   "source": [
    "def sympy_nth_degree_polynomial(\n",
    "    sympy_variable_x: sp.Symbol, \n",
    "    degree_of_polynomial: int,\n",
    "    *coefficients) -> float:\n",
    "    \"\"\"\n",
    "    ## Description:\n",
    "    Create an nth-degree polynomial function of x.\n",
    "\n",
    "    ## Parameters:\n",
    "    - sympy_variable_x (sp.Symbol): The symbolic variable.\n",
    "    - n (int): The degree of the polynomial.\n",
    "    - *coefficients (float): The polynomial coefficients in order [a_0, a_1, ..., a_n].\n",
    "\n",
    "    ## Returns:\n",
    "    - sp.Expr: The symbolic polynomial expression.\n",
    "    \"\"\"\n",
    "    if len(coefficients) != degree_of_polynomial + 1:\n",
    "        raise ValueError(f\"Expected {degree_of_polynomial + 1} coefficients, but got {len(coefficients)}.\")\n",
    "    \n",
    "    try:\n",
    "        return sum(coefficients[i] * sympy_variable_x**i for i in range(degree_of_polynomial + 1))\n",
    "    except:\n",
    "        FLOAT_ZERO = 0.\n",
    "        return FLOAT_ZERO\n",
    "\n",
    "\n",
    "def sympy_generate_random_function(\n",
    "        sympy_symbols: sp.Symbol,\n",
    "        depth: int) -> sp.Function:\n",
    "    \"\"\"\n",
    "    ## Description:\n",
    "    We use SymPy to generate a random function of a single variable. We generate\n",
    "    the function using the `depth` parameter that determines how many iterations of \n",
    "    function composition we perform.\n",
    "\n",
    "    ## Arguments:\n",
    "    1. `sympy_symbols` (sp.Symbol)\n",
    "    2. `depth` (int)\n",
    "    \"\"\"\n",
    "    \n",
    "    # (X): List of available (unary) functions:\n",
    "    functions = [\n",
    "        sympy_nth_degree_polynomial,\n",
    "        ]\n",
    "    \n",
    "    # (X): Initalize a set object to store unique elements:\n",
    "    used_independent_variables = set()\n",
    "\n",
    "    # (X): Cast the SymPy tuple of symbols into a list:\n",
    "    available_expressions = list(sympy_symbols)\n",
    "    \n",
    "    # (X): Initialize the expression tree generation:\n",
    "    for _ in range(depth):\n",
    "\n",
    "        # (X): In generating the expression tree, we choose either U(•) or B(•, •) operators:\n",
    "        operation_type = np.random.choice(['unary', 'binary'])\n",
    "\n",
    "        # (X): In U(•) operations, we need a single input:\n",
    "        if operation_type == 'unary':\n",
    "\n",
    "            # (X): Select a random expression:\n",
    "            chosen_expression = np.random.choice(available_expressions)\n",
    "\n",
    "            # (X): Compare if the expression *is or is not* a \"primitive\" SymPy symbol:\n",
    "            if chosen_expression in sympy_symbols:\n",
    "\n",
    "                # (X): If the selection *is* a primitive symbol, add this symbol as \"used\":\n",
    "                used_independent_variables.add(chosen_expression)\n",
    "\n",
    "            # (X): Choose a random function from the list `functions`:\n",
    "            function_index = np.random.randint(0, len(functions))\n",
    "\n",
    "            # (x): Ascertain the corresponding *function* from the list!\n",
    "            function = functions[function_index]\n",
    "\n",
    "            # (X.1): If the function is a nth-degree polynomial, we need to be fancy in handling it:\n",
    "            if function == sympy_nth_degree_polynomial:\n",
    "\n",
    "                # (3.1.1): Randomly choose the degree of the polynomial: (1 ≤ n ≤ 4)\n",
    "                polynomial_degree = np.random.randint(2, 5)\n",
    "\n",
    "                # (3.1.2): ...\n",
    "                coefficients = np.round(np.random.uniform(-5, 5, size = polynomial_degree + 1)) \n",
    "\n",
    "                # (3.1.3):\n",
    "                new_expression = function(chosen_expression, polynomial_degree, *coefficients)\n",
    "            \n",
    "            # (3.2): Otherwise, functions only come with finite and determined number of parameters:\n",
    "            else:\n",
    "\n",
    "                # (3.2.1): Obtain the number of arguments (mathspeak: parameters) required for each function:\n",
    "                number_of_arguments_per_function = function.__code__.co_argcount\n",
    "\n",
    "                # (3.2.2): Using the number of parameters, choose them randomly from the interval [-5, 5] to parametrize the function:\n",
    "                function_parameters = np.round(np.random.uniform(-5, 5, size = number_of_arguments_per_function - 2))\n",
    "\n",
    "                # (3.2.3): Obtain the result by passing in the required arguments:\n",
    "                new_expression = function(chosen_expression, 1, *function_parameters)\n",
    "            \n",
    "            available_expressions.append(new_expression)\n",
    "\n",
    "        # (X): In B(•, •) operations, we need two inputs:\n",
    "        else:\n",
    "\n",
    "            # (X): We find the two inputs to the B(•, •) operator:\n",
    "            first_chosen_expression, second_chosen_expression = random.sample(available_expressions, 2)\n",
    "            \n",
    "            # (X): Perform a set union...\n",
    "            used_independent_variables.update(set([\n",
    "                first_chosen_expression,\n",
    "                second_chosen_expression\n",
    "                ]) & set(sympy_symbols))\n",
    "\n",
    "            # (X): Chose a random arithmetic operation between the two:\n",
    "            chosen_binary_operation = np.random.choice([sp.Add, sp.Mul, sp.Pow])\n",
    "            \n",
    "            # (X): Actually perform the binary operation:            \n",
    "            new_expression = chosen_binary_operation(first_chosen_expression, second_chosen_expression)\n",
    "            \n",
    "            # (X): Add the resultant expression to the list:\n",
    "            available_expressions.append(new_expression)\n",
    "\n",
    "    # (X): The last element of `available_expressions` is the most recently-updated expression:\n",
    "    final_expression = available_expressions[-1]\n",
    "\n",
    "    # (X): \"set quotient\" (?) to determine if the loop missed any independent variables:\n",
    "    unused_variable = set(sympy_symbols) - used_independent_variables   \n",
    "\n",
    "    # (X): If there *are* unused variables:\n",
    "    if unused_variable is not None:\n",
    "\n",
    "        # (X): Initialize iteration over unused variables...\n",
    "        for unused_variable in unused_variable:\n",
    "\n",
    "            # (X): ...and force their inclusion into the final expression:\n",
    "            final_expression += unused_variable\n",
    "\n",
    "    return final_expression"
   ]
  },
  {
   "cell_type": "code",
   "execution_count": 60,
   "metadata": {},
   "outputs": [
    {
     "data": {
      "text/latex": [
       "$\\displaystyle x_{1} \\left(- 4.0 x_{2}^{2} - 4.0 x_{2} - 5.0\\right) + x_{3}$"
      ],
      "text/plain": [
       "x_1*(-4.0*x_2**2 - 4.0*x_2 - 5.0) + x_3"
      ]
     },
     "execution_count": 60,
     "metadata": {},
     "output_type": "execute_result"
    }
   ],
   "source": [
    "sympy_generate_random_function(sympy_symbols, 3)"
   ]
  },
  {
   "cell_type": "code",
   "execution_count": 61,
   "metadata": {},
   "outputs": [
    {
     "data": {
      "text/latex": [
       "$\\displaystyle 3.0 x_{1}^{3} + 4.0 x_{1}^{2} + 5.0 x_{1} - 3.0$"
      ],
      "text/plain": [
       "3.0*x_1**3 + 4.0*x_1**2 + 5.0*x_1 - 3.0"
      ]
     },
     "execution_count": 61,
     "metadata": {},
     "output_type": "execute_result"
    }
   ],
   "source": [
    "sympy_generate_random_function(sympy_symbols, 3)"
   ]
  },
  {
   "cell_type": "code",
   "execution_count": 62,
   "metadata": {},
   "outputs": [
    {
     "data": {
      "text/latex": [
       "$\\displaystyle x_{1} x_{3} + x_{2}$"
      ],
      "text/plain": [
       "x_1*x_3 + x_2"
      ]
     },
     "execution_count": 62,
     "metadata": {},
     "output_type": "execute_result"
    }
   ],
   "source": [
    "sympy_generate_random_function(sympy_symbols, 3)"
   ]
  },
  {
   "cell_type": "code",
   "execution_count": 63,
   "metadata": {},
   "outputs": [
    {
     "data": {
      "text/latex": [
       "$\\displaystyle x_{1}^{x_{2}} + x_{3}$"
      ],
      "text/plain": [
       "x_1**x_2 + x_3"
      ]
     },
     "execution_count": 63,
     "metadata": {},
     "output_type": "execute_result"
    }
   ],
   "source": [
    "sympy_generate_random_function(sympy_symbols, 3)"
   ]
  },
  {
   "cell_type": "code",
   "execution_count": 64,
   "metadata": {},
   "outputs": [
    {
     "data": {
      "text/latex": [
       "$\\displaystyle 5.0 x_{2}^{2} + 3.0 x_{2} + 5.0$"
      ],
      "text/plain": [
       "5.0*x_2**2 + 3.0*x_2 + 5.0"
      ]
     },
     "execution_count": 64,
     "metadata": {},
     "output_type": "execute_result"
    }
   ],
   "source": [
    "sympy_generate_random_function(sympy_symbols, 3)"
   ]
  },
  {
   "cell_type": "code",
   "execution_count": 65,
   "metadata": {},
   "outputs": [
    {
     "data": {
      "text/latex": [
       "$\\displaystyle x_{1} x_{2} x_{3}$"
      ],
      "text/plain": [
       "x_1*x_2*x_3"
      ]
     },
     "execution_count": 65,
     "metadata": {},
     "output_type": "execute_result"
    }
   ],
   "source": [
    "sympy_generate_random_function(sympy_symbols, 3)"
   ]
  },
  {
   "cell_type": "markdown",
   "metadata": {},
   "source": [
    "Seems like it works. Remarkable!"
   ]
  },
  {
   "cell_type": "code",
   "execution_count": null,
   "metadata": {},
   "outputs": [],
   "source": []
  }
 ],
 "metadata": {
  "kernelspec": {
   "display_name": "Python 3",
   "language": "python",
   "name": "python3"
  },
  "language_info": {
   "codemirror_mode": {
    "name": "ipython",
    "version": 3
   },
   "file_extension": ".py",
   "mimetype": "text/x-python",
   "name": "python",
   "nbconvert_exporter": "python",
   "pygments_lexer": "ipython3",
   "version": "3.10.12"
  }
 },
 "nbformat": 4,
 "nbformat_minor": 2
}
