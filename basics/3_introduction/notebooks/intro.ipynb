{
 "cells": [
  {
   "cell_type": "markdown",
   "id": "6e65fff2",
   "metadata": {},
   "source": [
    "Comments, strings... Yadda yadda..."
   ]
  },
  {
   "cell_type": "markdown",
   "id": "9127e623",
   "metadata": {},
   "source": [
    "Claim: division *always* returns a float."
   ]
  },
  {
   "cell_type": "code",
   "execution_count": 1,
   "id": "f3bb86a9",
   "metadata": {},
   "outputs": [
    {
     "data": {
      "text/plain": [
       "1.0"
      ]
     },
     "execution_count": 1,
     "metadata": {},
     "output_type": "execute_result"
    }
   ],
   "source": [
    "5 / 5"
   ]
  },
  {
   "cell_type": "code",
   "execution_count": 2,
   "id": "94169638",
   "metadata": {},
   "outputs": [
    {
     "data": {
      "text/plain": [
       "float"
      ]
     },
     "execution_count": 2,
     "metadata": {},
     "output_type": "execute_result"
    }
   ],
   "source": [
    "type(5/5)"
   ]
  },
  {
   "cell_type": "code",
   "execution_count": 3,
   "id": "41a7bd18",
   "metadata": {},
   "outputs": [
    {
     "data": {
      "text/plain": [
       "float"
      ]
     },
     "execution_count": 3,
     "metadata": {},
     "output_type": "execute_result"
    }
   ],
   "source": [
    "type(1/1)"
   ]
  },
  {
   "cell_type": "code",
   "execution_count": 4,
   "id": "43bb6ff1",
   "metadata": {},
   "outputs": [
    {
     "data": {
      "text/plain": [
       "float"
      ]
     },
     "execution_count": 4,
     "metadata": {},
     "output_type": "execute_result"
    }
   ],
   "source": [
    "type(0/1)"
   ]
  },
  {
   "cell_type": "code",
   "execution_count": 5,
   "id": "c0d09023",
   "metadata": {},
   "outputs": [
    {
     "ename": "ZeroDivisionError",
     "evalue": "division by zero",
     "output_type": "error",
     "traceback": [
      "\u001b[0;31m---------------------------------------------------------------------------\u001b[0m",
      "\u001b[0;31mZeroDivisionError\u001b[0m                         Traceback (most recent call last)",
      "\u001b[0;32m/tmp/ipykernel_3314085/507874440.py\u001b[0m in \u001b[0;36m<module>\u001b[0;34m\u001b[0m\n\u001b[0;32m----> 1\u001b[0;31m \u001b[0mtype\u001b[0m\u001b[0;34m(\u001b[0m\u001b[0;34m-\u001b[0m\u001b[0;36m5\u001b[0m\u001b[0;34m/\u001b[0m\u001b[0;36m0\u001b[0m\u001b[0;34m)\u001b[0m\u001b[0;34m\u001b[0m\u001b[0;34m\u001b[0m\u001b[0m\n\u001b[0m",
      "\u001b[0;31mZeroDivisionError\u001b[0m: division by zero"
     ]
    }
   ],
   "source": [
    "type(-5/0)"
   ]
  },
  {
   "cell_type": "code",
   "execution_count": 7,
   "id": "9c17928c",
   "metadata": {},
   "outputs": [
    {
     "ename": "ZeroDivisionError",
     "evalue": "HOLY",
     "output_type": "error",
     "traceback": [
      "\u001b[0;31m---------------------------------------------------------------------------\u001b[0m",
      "\u001b[0;31mZeroDivisionError\u001b[0m                         Traceback (most recent call last)",
      "\u001b[0;32m/tmp/ipykernel_3314085/1827457716.py\u001b[0m in \u001b[0;36m<module>\u001b[0;34m\u001b[0m\n\u001b[0;32m----> 1\u001b[0;31m \u001b[0;32mraise\u001b[0m \u001b[0mZeroDivisionError\u001b[0m\u001b[0;34m(\u001b[0m\u001b[0;34m\"HOLY\"\u001b[0m\u001b[0;34m)\u001b[0m\u001b[0;34m\u001b[0m\u001b[0;34m\u001b[0m\u001b[0m\n\u001b[0m",
      "\u001b[0;31mZeroDivisionError\u001b[0m: HOLY"
     ]
    }
   ],
   "source": [
    "raise ZeroDivisionError(\"HOLY\")"
   ]
  },
  {
   "cell_type": "markdown",
   "id": "f1d4532f",
   "metadata": {},
   "source": [
    "\"There is full support for floating point; operators with mixed type operands convert the integer operand to floating point.\"\n",
    "\n",
    "Yes, I am now aware of this fact. Nuts."
   ]
  },
  {
   "cell_type": "code",
   "execution_count": 8,
   "id": "7b2b26ab",
   "metadata": {},
   "outputs": [
    {
     "data": {
      "text/plain": [
       "6.8"
      ]
     },
     "execution_count": 8,
     "metadata": {},
     "output_type": "execute_result"
    }
   ],
   "source": [
    "5 + 8 * 9 / 40"
   ]
  },
  {
   "cell_type": "code",
   "execution_count": 9,
   "id": "9604964b",
   "metadata": {},
   "outputs": [
    {
     "data": {
      "text/plain": [
       "6.8"
      ]
     },
     "execution_count": 9,
     "metadata": {},
     "output_type": "execute_result"
    }
   ],
   "source": [
    "_"
   ]
  },
  {
   "cell_type": "markdown",
   "id": "cba220ff",
   "metadata": {},
   "source": [
    "Works in Jupyter, too. This is Mathematica's `%`, or whatever symbol it is."
   ]
  },
  {
   "cell_type": "code",
   "execution_count": 11,
   "id": "f3f8e755",
   "metadata": {},
   "outputs": [
    {
     "data": {
      "text/plain": [
       "'5'"
      ]
     },
     "execution_count": 11,
     "metadata": {},
     "output_type": "execute_result"
    }
   ],
   "source": [
    "r\"5\""
   ]
  },
  {
   "cell_type": "code",
   "execution_count": 12,
   "id": "35576436",
   "metadata": {},
   "outputs": [
    {
     "data": {
      "text/plain": [
       "'$5$'"
      ]
     },
     "execution_count": 12,
     "metadata": {},
     "output_type": "execute_result"
    }
   ],
   "source": [
    "r\"$5$\""
   ]
  },
  {
   "cell_type": "code",
   "execution_count": 14,
   "id": "2f84307f",
   "metadata": {},
   "outputs": [
    {
     "data": {
      "text/plain": [
       "'First line\\nSecond line'"
      ]
     },
     "execution_count": 14,
     "metadata": {},
     "output_type": "execute_result"
    }
   ],
   "source": [
    "cool = 'First line\\nSecond line'\n",
    "cool"
   ]
  },
  {
   "cell_type": "code",
   "execution_count": 15,
   "id": "29a62744",
   "metadata": {},
   "outputs": [
    {
     "name": "stdout",
     "output_type": "stream",
     "text": [
      "First line\n",
      "Second line\n"
     ]
    }
   ],
   "source": [
    "print(cool)"
   ]
  },
  {
   "cell_type": "markdown",
   "id": "ceb819cd",
   "metadata": {},
   "source": [
    "Cool."
   ]
  },
  {
   "cell_type": "markdown",
   "id": "aad7aba0",
   "metadata": {},
   "source": [
    "There is also something called a \"raw\" string, and that's what the `r` means before the single or double quotation marks."
   ]
  },
  {
   "cell_type": "code",
   "execution_count": 17,
   "id": "52c227d0",
   "metadata": {},
   "outputs": [
    {
     "name": "stdout",
     "output_type": "stream",
     "text": [
      "This is a raw string. \\nSee?\n"
     ]
    }
   ],
   "source": [
    "print(r\"This is a raw string. \\nSee?\")"
   ]
  },
  {
   "cell_type": "markdown",
   "id": "eda574eb",
   "metadata": {},
   "source": [
    "Here's a strange thing that I did not expect: \"There is one subtle aspect to raw strings: a raw string may not end in an odd number of \\ characters.\""
   ]
  },
  {
   "cell_type": "code",
   "execution_count": 18,
   "id": "e0b29f61",
   "metadata": {},
   "outputs": [
    {
     "name": "stdout",
     "output_type": "stream",
     "text": [
      "I don't believe it.\\n Here's on newline. \\t Here's a tab.\n"
     ]
    }
   ],
   "source": [
    "print(r\"I don't believe it.\\n Here's on newline. \\t Here's a tab.\")"
   ]
  },
  {
   "cell_type": "markdown",
   "id": "cd6acd55",
   "metadata": {},
   "source": [
    "Whoops. It really means *end* the string with a bunch of slashes."
   ]
  },
  {
   "cell_type": "code",
   "execution_count": 20,
   "id": "444511e3",
   "metadata": {},
   "outputs": [
    {
     "ename": "SyntaxError",
     "evalue": "unterminated string literal (detected at line 1) (3765913372.py, line 1)",
     "output_type": "error",
     "traceback": [
      "\u001b[0;36m  File \u001b[0;32m\"/tmp/ipykernel_3314085/3765913372.py\"\u001b[0;36m, line \u001b[0;32m1\u001b[0m\n\u001b[0;31m    print(r\"Raw string:\\\")\u001b[0m\n\u001b[0m          ^\u001b[0m\n\u001b[0;31mSyntaxError\u001b[0m\u001b[0;31m:\u001b[0m unterminated string literal (detected at line 1)\n"
     ]
    }
   ],
   "source": [
    "print(r\"Raw string:\\\")"
   ]
  },
  {
   "cell_type": "code",
   "execution_count": 21,
   "id": "33c76e11",
   "metadata": {},
   "outputs": [
    {
     "name": "stdout",
     "output_type": "stream",
     "text": [
      "Raw string:\\\\\n"
     ]
    }
   ],
   "source": [
    "print(r\"Raw string:\\\\\")"
   ]
  },
  {
   "cell_type": "markdown",
   "id": "18dfc667",
   "metadata": {},
   "source": [
    "Escaping quotes still seems to have an effect in a raw string... Ah, and technically, they are. Specifically, here is what it says about escaping things: \"If you don’t want characters prefaced by `\\` to be interpreted as special characters, you can use raw strings by adding an `r` before the first quote:\""
   ]
  },
  {
   "cell_type": "code",
   "execution_count": 22,
   "id": "77638d89",
   "metadata": {},
   "outputs": [
    {
     "name": "stdout",
     "output_type": "stream",
     "text": [
      " Trying to escape a quote \\\" \n"
     ]
    }
   ],
   "source": [
    "print(r\" Trying to escape a quote \\\" \")"
   ]
  },
  {
   "cell_type": "code",
   "execution_count": null,
   "id": "7ef2333e",
   "metadata": {},
   "outputs": [],
   "source": [
    "print(r\"\")"
   ]
  },
  {
   "cell_type": "markdown",
   "id": "db2ce8f7",
   "metadata": {},
   "source": [
    "The specificity is the following: \"...characters *prefaced* by `\\`...\""
   ]
  },
  {
   "cell_type": "code",
   "execution_count": 23,
   "id": "9cf2b538",
   "metadata": {},
   "outputs": [
    {
     "name": "stdout",
     "output_type": "stream",
     "text": [
      "Normal string, and I'm gonna \t tab it...\n"
     ]
    }
   ],
   "source": [
    "print(\"Normal string, and I'm gonna \\t tab it...\")"
   ]
  },
  {
   "cell_type": "code",
   "execution_count": 24,
   "id": "d6b97717",
   "metadata": {},
   "outputs": [
    {
     "name": "stdout",
     "output_type": "stream",
     "text": [
      "Raw string, and I'm gonna \\t tab it...\n"
     ]
    }
   ],
   "source": [
    "print(r\"Raw string, and I'm gonna \\t tab it...\")"
   ]
  },
  {
   "cell_type": "markdown",
   "id": "d0c69ee1",
   "metadata": {},
   "source": [
    "Prefaced character was picked up in the raw string."
   ]
  },
  {
   "cell_type": "markdown",
   "id": "3a54f4ba",
   "metadata": {},
   "source": [
    "Example of coercion:"
   ]
  },
  {
   "cell_type": "code",
   "execution_count": 26,
   "id": "6e862478",
   "metadata": {},
   "outputs": [
    {
     "data": {
      "text/plain": [
       "'unununium'"
      ]
     },
     "execution_count": 26,
     "metadata": {},
     "output_type": "execute_result"
    }
   ],
   "source": [
    "3 * 'un' + 'ium'"
   ]
  },
  {
   "cell_type": "markdown",
   "id": "ad233be9",
   "metadata": {},
   "source": [
    "It is finally revealed what \"string literals\" are in the context of concatenation of strings."
   ]
  },
  {
   "cell_type": "code",
   "execution_count": 28,
   "id": "02cb7218",
   "metadata": {},
   "outputs": [
    {
     "data": {
      "text/plain": [
       "'attach'"
      ]
     },
     "execution_count": 28,
     "metadata": {},
     "output_type": "execute_result"
    }
   ],
   "source": [
    "thing = \"a\" \"t\" \"t\" \"a\" \"c\" \"h\"\n",
    "thing"
   ]
  },
  {
   "cell_type": "code",
   "execution_count": 29,
   "id": "61a265bd",
   "metadata": {},
   "outputs": [
    {
     "ename": "SyntaxError",
     "evalue": "invalid syntax (339278182.py, line 1)",
     "output_type": "error",
     "traceback": [
      "\u001b[0;36m  File \u001b[0;32m\"/tmp/ipykernel_3314085/339278182.py\"\u001b[0;36m, line \u001b[0;32m1\u001b[0m\n\u001b[0;31m    thing \"bad\"\u001b[0m\n\u001b[0m          ^\u001b[0m\n\u001b[0;31mSyntaxError\u001b[0m\u001b[0;31m:\u001b[0m invalid syntax\n"
     ]
    }
   ],
   "source": [
    "thing \"bad\""
   ]
  },
  {
   "cell_type": "markdown",
   "id": "0fddcc48",
   "metadata": {},
   "source": [
    "Above, `thing` is not a string literal anymore; it's a variable."
   ]
  },
  {
   "cell_type": "code",
   "execution_count": 30,
   "id": "9f85ecde",
   "metadata": {},
   "outputs": [],
   "source": [
    "string_sequence = \"whufwtfu7wugejhwhgef ytfyg vshbafb ywuegfy weuf5 76asyfdat6s7d5taf yvfbhjsgf\""
   ]
  },
  {
   "cell_type": "code",
   "execution_count": 32,
   "id": "7c965447",
   "metadata": {},
   "outputs": [
    {
     "name": "stdout",
     "output_type": "stream",
     "text": [
      "w\n",
      "7\n"
     ]
    }
   ],
   "source": [
    "print(string_sequence[0])\n",
    "print(string_sequence[8])"
   ]
  },
  {
   "cell_type": "markdown",
   "id": "32373ed6",
   "metadata": {},
   "source": [
    "I suppose we also have some decent justification for the reason why slicing works the way it does:\n",
    "\n",
    "> Note how the start is always included, and the end always excluded. This makes sure that s[:i] + s[i:] is always equal to s:"
   ]
  },
  {
   "cell_type": "code",
   "execution_count": 33,
   "id": "215bfaa2",
   "metadata": {},
   "outputs": [
    {
     "data": {
      "text/plain": [
       "'whufwtfu7wugejhwhgef ytfyg vshbafb ywuegfy weuf5 76asyfdat6s7d5taf yvfbhjsgf'"
      ]
     },
     "execution_count": 33,
     "metadata": {},
     "output_type": "execute_result"
    }
   ],
   "source": [
    "string_sequence[:5] + string_sequence[5:]"
   ]
  },
  {
   "cell_type": "code",
   "execution_count": 34,
   "id": "ca0e5429",
   "metadata": {},
   "outputs": [
    {
     "data": {
      "text/plain": [
       "True"
      ]
     },
     "execution_count": 34,
     "metadata": {},
     "output_type": "execute_result"
    }
   ],
   "source": [
    "string_sequence[:5] + string_sequence[5:] == string_sequence"
   ]
  },
  {
   "cell_type": "markdown",
   "id": "9aa0d9a2",
   "metadata": {},
   "source": [
    "Here is a major exception, but it is not written as a \"gotcha\": You can't index a string with an out-of-range index, but if you slice the string such that its indices refer to otherwise nonexistent entries, the slice will *still* work. In other words, it introduces degeneracy: You will not be able to determine what the original word was if you tried to reconstruct it with slices."
   ]
  },
  {
   "cell_type": "code",
   "execution_count": 35,
   "id": "96c0bd3c",
   "metadata": {},
   "outputs": [
    {
     "data": {
      "text/plain": [
       "'whufwtfu7wugejhwhgef ytfyg vshbafb ywuegfy weuf5 76asyfdat6s7d5taf yvfbhjsgf'"
      ]
     },
     "execution_count": 35,
     "metadata": {},
     "output_type": "execute_result"
    }
   ],
   "source": [
    "string_sequence[0:2332]"
   ]
  },
  {
   "cell_type": "code",
   "execution_count": null,
   "id": "a52cabcf",
   "metadata": {},
   "outputs": [],
   "source": [
    "basic = \"unknown string\""
   ]
  },
  {
   "cell_type": "code",
   "execution_count": 39,
   "id": "6f730eed",
   "metadata": {},
   "outputs": [
    {
     "data": {
      "text/plain": [
       "'bas78ic'"
      ]
     },
     "execution_count": 39,
     "metadata": {},
     "output_type": "execute_result"
    }
   ],
   "source": [
    "basic[0:8] + basic[8:9] + basic[9:235236]"
   ]
  },
  {
   "cell_type": "markdown",
   "id": "5b79c57c",
   "metadata": {},
   "source": []
  }
 ],
 "metadata": {
  "kernelspec": {
   "display_name": "Python 3",
   "language": "python",
   "name": "python3"
  },
  "language_info": {
   "codemirror_mode": {
    "name": "ipython",
    "version": 3
   },
   "file_extension": ".py",
   "mimetype": "text/x-python",
   "name": "python",
   "nbconvert_exporter": "python",
   "pygments_lexer": "ipython3",
   "version": "3.10.12"
  }
 },
 "nbformat": 4,
 "nbformat_minor": 5
}
